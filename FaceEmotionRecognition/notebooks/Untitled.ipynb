version https://git-lfs.github.com/spec/v1
oid sha256:a5531e22222ab384150c97bfe8246ea38c0624d374116ebd0efeb0e94fafa2d0
size 40737
